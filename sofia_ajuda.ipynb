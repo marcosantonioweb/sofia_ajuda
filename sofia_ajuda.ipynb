{
  "nbformat": 4,
  "nbformat_minor": 0,
  "metadata": {
    "colab": {
      "provenance": []
    },
    "kernelspec": {
      "name": "python3",
      "display_name": "Python 3"
    },
    "language_info": {
      "name": "python"
    }
  },
  "cells": [
    {
      "cell_type": "markdown",
      "source": [
        "## Instalando SDK para ter acesso ao gemini"
      ],
      "metadata": {
        "id": "MHnQ6nvXQMNJ"
      }
    },
    {
      "cell_type": "code",
      "execution_count": 1,
      "metadata": {
        "id": "SkspjcAtonAE"
      },
      "outputs": [],
      "source": [
        "!pip install -q -U google-generativeai"
      ]
    },
    {
      "cell_type": "markdown",
      "source": [
        "# Importando o SDK instalado e Definindo a Google API Key\n",
        "Lembre de adicionar sua API KEY no google colab."
      ],
      "metadata": {
        "id": "9Fjzc3seQiCy"
      }
    },
    {
      "cell_type": "code",
      "source": [
        "import google.generativeai as genai\n",
        "from google.colab import userdata\n",
        "\n",
        "GOOGLE_API_KEY=userdata.get('GOOGLE_API_KEY')\n",
        "\n",
        "genai.configure(api_key=GOOGLE_API_KEY)"
      ],
      "metadata": {
        "id": "m_JvoLzkqoNI"
      },
      "execution_count": 2,
      "outputs": []
    },
    {
      "cell_type": "markdown",
      "source": [
        "# Definindo as configurações do modelo e safety settings"
      ],
      "metadata": {
        "id": "r0mTVattQ7yI"
      }
    },
    {
      "cell_type": "code",
      "source": [
        "generation_config = {\n",
        "    \"temperature\": 0.6,\n",
        "    \"candidate_count\": 1\n",
        "  }"
      ],
      "metadata": {
        "id": "53VkyGIzsWJv"
      },
      "execution_count": 85,
      "outputs": []
    },
    {
      "cell_type": "code",
      "source": [
        "safety_settings = [\n",
        "  {\n",
        "    \"category\": \"HARM_CATEGORY_HARASSMENT\",\n",
        "    \"threshold\": \"BLOCK_ONLY_HIGH\"\n",
        "  },\n",
        "  {\n",
        "    \"category\": \"HARM_CATEGORY_HATE_SPEECH\",\n",
        "    \"threshold\": \"BLOCK_LOW_AND_ABOVE\"\n",
        "  },\n",
        "  {\n",
        "    \"category\": \"HARM_CATEGORY_SEXUALLY_EXPLICIT\",\n",
        "    \"threshold\": \"BLOCK_MEDIUM_AND_ABOVE\"\n",
        "  },\n",
        "  {\n",
        "    \"category\": \"HARM_CATEGORY_DANGEROUS_CONTENT\",\n",
        "    \"threshold\": \"BLOCK_LOW_AND_ABOVE\"\n",
        "  },\n",
        "]"
      ],
      "metadata": {
        "id": "nU3Av5mZsoTe"
      },
      "execution_count": 86,
      "outputs": []
    },
    {
      "cell_type": "markdown",
      "source": [
        "# Definindo a forma como o modelo deve agir"
      ],
      "metadata": {
        "id": "Z8jZWAc0uV8q"
      }
    },
    {
      "cell_type": "code",
      "source": [
        "system_instruction = \"Aja como um especialista em saúde mental, ajudando as pessoas a lidarem com situações, como a depressão, ansiedade, entre outros relacionados a saúde mental, seu nome a partir de agora é sofia.\""
      ],
      "metadata": {
        "id": "Ayq8uWkKO6og"
      },
      "execution_count": 87,
      "outputs": []
    },
    {
      "cell_type": "markdown",
      "source": [
        "# Criando modelo e adicionando as configurações necessárias."
      ],
      "metadata": {
        "id": "a_jyzWkBRM4y"
      }
    },
    {
      "cell_type": "code",
      "source": [
        "model = genai.GenerativeModel(model_name = \"gemini-1.5-pro-latest\",generation_config=generation_config,safety_settings=safety_settings,system_instruction=system_instruction)\n"
      ],
      "metadata": {
        "id": "zk9MTr36uYOD"
      },
      "execution_count": 88,
      "outputs": []
    },
    {
      "cell_type": "code",
      "source": [
        "chat = model.start_chat(history=[])"
      ],
      "metadata": {
        "id": "NpZMCEIqwglA"
      },
      "execution_count": 89,
      "outputs": []
    },
    {
      "cell_type": "markdown",
      "source": [
        "# Função para formatar a saída do chatbot para utilizar negrito e quebra de linhas em HTML"
      ],
      "metadata": {
        "id": "aehqBCqgRq0S"
      }
    },
    {
      "cell_type": "code",
      "source": [
        "import re\n",
        "\n",
        "def formatar_resposta_chatbot(texto_chatbot):\n",
        "  \"\"\"Formata a resposta de um chatbot (Gemini ou Bard) para HTML.\n",
        "\n",
        "  Args:\n",
        "    texto_chatbot: A string contendo a resposta do chatbot.\n",
        "\n",
        "  Returns:\n",
        "    Uma string formatada em HTML.\n",
        "  \"\"\"\n",
        "\n",
        "  texto_html = texto_chatbot.replace(\"\\n\", \"<br>\")\n",
        "  texto_html = re.sub(r\"\\*\\*(.+?)\\*\\*\", r\"<strong>\\1</strong>\", texto_html)\n",
        "\n",
        "  return texto_html"
      ],
      "metadata": {
        "id": "2tQFwpLkBCCP"
      },
      "execution_count": 90,
      "outputs": []
    },
    {
      "cell_type": "markdown",
      "source": [
        "# Utitilizando a biblioteca IPython para estilizar a aplicação, utilzando como base HTML, CSS e JS\n",
        "Não queria utilizar apenas o terminal do colab para interação, então utilizei esta ideia."
      ],
      "metadata": {
        "id": "lpNXBBT3SCwy"
      }
    },
    {
      "cell_type": "code",
      "source": [
        "from IPython.display import HTML, display\n",
        "from google.colab import output\n",
        "\n",
        "#criando a interface da aplicação\n",
        "def chat_interface():\n",
        "  # HTML para a interface do chat\n",
        "  html = \"\"\"\n",
        "  <style>\n",
        "  /* Definindo os estilos para cada elemento html utlizado*/\n",
        "  #chat-container::-webkit-scrollbar {\n",
        "    width: 10px; /* largura da barra de rolagem */\n",
        "  }\n",
        "\n",
        "  #chat-container::-webkit-scrollbar-track {\n",
        "    background: #f0f6ff;\n",
        "    border-radius: 10px;\n",
        "  }\n",
        "\n",
        "  #chat-container::-webkit-scrollbar-thumb {\n",
        "    background-color: #4e8cff;\n",
        "    border-radius: 10px;\n",
        "  }\n",
        "\n",
        "  h1{\n",
        "   margin: 20px;\n",
        "  }\n",
        "\n",
        "  #chat-container {\n",
        "  width: 500px;\n",
        "  height: 400px;\n",
        "  border: 1px solid #ccc;\n",
        "  padding: 20px;\n",
        "  overflow-y: scroll;\n",
        "  overflow-x: hidden;\n",
        "  border-radius: 10px;\n",
        "  box-shadow: 0 4px 8px rgba(0, 0, 0, 0.1);\n",
        "  background-color: #f0f6ff;\n",
        "}\n",
        "#chat-container div{\n",
        "  margin-top: 20px;\n",
        "}\n",
        "\n",
        ".user-message, .bot-message {\n",
        "  background-color: #d1eaff;\n",
        "  padding: 10px;\n",
        "  margin-bottom: 5px;\n",
        "  border-radius: 10px;\n",
        "  line-height: 1.4;\n",
        "}\n",
        "\n",
        ".bot-message {\n",
        "  background-color: #b3d9ff;\n",
        "}\n",
        "\n",
        "#user-input {\n",
        "  width: 300px;\n",
        "  padding: 15px;\n",
        "  margin-top: 10px;\n",
        "  border-radius: 20px;\n",
        "  border: 1px solid #ccc;\n",
        "  box-shadow: 0 2px 4px rgba(0, 0, 0, 0.1);\n",
        "  font-size: 14px;\n",
        "}\n",
        "\n",
        "#send-button {\n",
        "  padding: 10px 20px;\n",
        "  margin-top: 10px;\n",
        "  border-radius: 20px;\n",
        "  border: none;\n",
        "  background-color: #4e8cff;\n",
        "  color: white;\n",
        "  cursor: pointer;\n",
        "  box-shadow: 0 2px 4px rgba(0, 0, 0, 0.1);\n",
        "}\n",
        "\n",
        "#send-button:hover {\n",
        "  background-color: #387de8;\n",
        "}\n",
        "\n",
        " #app-container {\n",
        "    display: flex;\n",
        "    flex-direction: column;\n",
        "    align-items: center;\n",
        "    padding: 50px;\n",
        "    background-color: white;\n",
        "    border-radius: 20px;\n",
        "    box-shadow: 0 4px 8px rgba(0, 0, 0, 0.1);\n",
        "  }\n",
        "\n",
        "#input-container {\n",
        "  display: flex;\n",
        "  justify-content: space-around;\n",
        "  width: 500px;\n",
        "  margin-top: 20px;\n",
        "}\n",
        "  </style>\n",
        "\n",
        "<!--Definindo o 'corpo' da aplicação-->\n",
        "  <div id=\"app-container\">\n",
        "    <h1>Sofia Ajuda</h1>\n",
        "     <div id=\"chat-container\">\n",
        "        <div class=\"bot-message\"> <b>Sofia:</b> Como posso de ajudar?</div>\n",
        "      </div>\n",
        "     <div id=\"input-container\">\n",
        "       <input type=\"text\" id=\"user-input\" placeholder=\"Digite sua mensagem...\">\n",
        "        <button id=\"send-button\" onclick=\"sendMessage()\">Enviar</button>\n",
        "     </div>\n",
        "  </div>\n",
        "<!-- Utilizando JS para funcionalidade da aplicação, processa mensagem\n",
        "do usuário e mensagem recebida pleo chatbot -->\n",
        "<script>\n",
        "  function sendMessage() {\n",
        "    let userMessage = document.getElementById('user-input').value;\n",
        "    if (userMessage.trim() === '') return; // Ignorar mensagens vazias\n",
        "\n",
        "    // Adiciona a mensagem do usuário ao chat\n",
        "    let chatContainer = document.getElementById('chat-container');\n",
        "    let userMessageElement = document.createElement('div');\n",
        "    userMessageElement.className = 'user-message';\n",
        "    userMessageElement.innerHTML = '<b>Você:</b> ' + userMessage;\n",
        "    chatContainer.appendChild(userMessageElement);\n",
        "\n",
        "    // Limpa o campo de entrada\n",
        "    document.getElementById('user-input').value = '';\n",
        "    document.getElementById('user-input').placeholder = '';\n",
        "\n",
        "    // Envia a mensagem do usuário para o backend (Python)\n",
        "    google.colab.kernel.invokeFunction(\n",
        "      'process_message', [userMessage], {}\n",
        "    )\n",
        "    .then(function(response) {\n",
        "      // Adiciona a resposta do bot ao chat\n",
        "      var botMessageElement = document.createElement('div');\n",
        "      botMessageElement.className = 'bot-message';\n",
        "\n",
        "      botMessageElement.innerHTML = '<b>Sofia:</b> ' + response.data['text/plain'];\n",
        "      chatContainer.appendChild(botMessageElement);\n",
        "\n",
        "      // Rola para baixo para mostrar a última mensagem\n",
        "      chatContainer.scrollTop = chatContainer.scrollHeight;\n",
        "    });\n",
        "  }\n",
        "\n",
        "  // Permite enviar mensagens pressionando Enter\n",
        "  document.getElementById('user-input').addEventListener('keyup', function(event) {\n",
        "    if (event.key === 'Enter') {\n",
        "      sendMessage();\n",
        "    }\n",
        "  });\n",
        "</script>\n",
        "  \"\"\"\n",
        "  display(HTML(html))\n",
        "\n",
        "def process_message(message):\n",
        "  response = chat.send_message(message)\n",
        "  return formatar_resposta_chatbot(response.text)\n",
        "\n",
        "# Registra a função `process_message` para ser chamada pelo JavaScript\n",
        "output.register_callback('process_message', process_message)\n",
        "\n",
        "# Exibe a interface do chat\n",
        "chat_interface()"
      ],
      "metadata": {
        "colab": {
          "base_uri": "https://localhost:8080/",
          "height": 712
        },
        "id": "Pc8H3pDBCUZl",
        "outputId": "b98b2cad-b6c7-4235-f018-6bcb21c3feb0"
      },
      "execution_count": 92,
      "outputs": [
        {
          "output_type": "display_data",
          "data": {
            "text/plain": [
              "<IPython.core.display.HTML object>"
            ],
            "text/html": [
              "\n",
              "  <style>\n",
              "  /* Definindo os estilos para cada elemento html utlizado*/\n",
              "  #chat-container::-webkit-scrollbar {\n",
              "    width: 10px; /* largura da barra de rolagem */\n",
              "  }\n",
              "\n",
              "  #chat-container::-webkit-scrollbar-track {\n",
              "    background: #f0f6ff; \n",
              "    border-radius: 10px; \n",
              "  }\n",
              "\n",
              "  #chat-container::-webkit-scrollbar-thumb {\n",
              "    background-color: #4e8cff; \n",
              "    border-radius: 10px; \n",
              "  }\n",
              "\n",
              "  h1{\n",
              "   margin: 20px;\n",
              "  }\n",
              "\n",
              "  #chat-container {\n",
              "  width: 500px;\n",
              "  height: 400px;\n",
              "  border: 1px solid #ccc;\n",
              "  padding: 20px;\n",
              "  overflow-y: scroll;\n",
              "  overflow-x: hidden;\n",
              "  border-radius: 10px;\n",
              "  box-shadow: 0 4px 8px rgba(0, 0, 0, 0.1);\n",
              "  background-color: #f0f6ff;\n",
              "}\n",
              "#chat-container div{\n",
              "  margin-top: 20px;\n",
              "}\n",
              "\n",
              ".user-message, .bot-message {\n",
              "  background-color: #d1eaff; \n",
              "  padding: 10px;\n",
              "  margin-bottom: 5px;\n",
              "  border-radius: 10px;\n",
              "  line-height: 1.4;\n",
              "}\n",
              "\n",
              ".bot-message {\n",
              "  background-color: #b3d9ff; \n",
              "}\n",
              "\n",
              "#user-input {\n",
              "  width: 300px;\n",
              "  padding: 15px;\n",
              "  margin-top: 10px;\n",
              "  border-radius: 20px; \n",
              "  border: 1px solid #ccc;\n",
              "  box-shadow: 0 2px 4px rgba(0, 0, 0, 0.1);\n",
              "  font-size: 14px;\n",
              "}\n",
              "\n",
              "#send-button {\n",
              "  padding: 10px 20px;\n",
              "  margin-top: 10px;\n",
              "  border-radius: 20px;\n",
              "  border: none;\n",
              "  background-color: #4e8cff; \n",
              "  color: white;\n",
              "  cursor: pointer;\n",
              "  box-shadow: 0 2px 4px rgba(0, 0, 0, 0.1);\n",
              "}\n",
              "\n",
              "#send-button:hover {\n",
              "  background-color: #387de8;\n",
              "}\n",
              "\n",
              " #app-container {\n",
              "    display: flex;\n",
              "    flex-direction: column;\n",
              "    align-items: center;\n",
              "    padding: 50px;\n",
              "    background-color: white; \n",
              "    border-radius: 20px; \n",
              "    box-shadow: 0 4px 8px rgba(0, 0, 0, 0.1); \n",
              "  }\n",
              "\n",
              "#input-container {\n",
              "  display: flex;\n",
              "  justify-content: space-around;\n",
              "  width: 500px;\n",
              "  margin-top: 20px;\n",
              "}\n",
              "  </style>\n",
              "\n",
              "<!--Definindo o 'corpo' da aplicação-->\n",
              "  <div id=\"app-container\">\n",
              "    <h1>Sofia Ajuda</h1>\n",
              "     <div id=\"chat-container\">\n",
              "        <div class=\"bot-message\"> <b>Sofia:</b> Como posso de ajudar?</div>\n",
              "      </div>\n",
              "     <div id=\"input-container\">\n",
              "       <input type=\"text\" id=\"user-input\" placeholder=\"Digite sua mensagem...\">\n",
              "        <button id=\"send-button\" onclick=\"sendMessage()\">Enviar</button>\n",
              "     </div>\n",
              "  </div>\n",
              "<!-- Utilizando JS para funcionalidade da aplicação, processa mensagem\n",
              "do usuário e mensagem recebida pleo chatbot -->\n",
              "<script>\n",
              "  function sendMessage() {\n",
              "    let userMessage = document.getElementById('user-input').value;\n",
              "    if (userMessage.trim() === '') return; // Ignorar mensagens vazias\n",
              "\n",
              "    // Adiciona a mensagem do usuário ao chat\n",
              "    let chatContainer = document.getElementById('chat-container');\n",
              "    let userMessageElement = document.createElement('div');\n",
              "    userMessageElement.className = 'user-message';\n",
              "    userMessageElement.innerHTML = '<b>Você:</b> ' + userMessage;\n",
              "    chatContainer.appendChild(userMessageElement);\n",
              "\n",
              "    // Limpa o campo de entrada\n",
              "    document.getElementById('user-input').value = '';\n",
              "    document.getElementById('user-input').placeholder = '';\n",
              "\n",
              "    // Envia a mensagem do usuário para o backend (Python)\n",
              "    google.colab.kernel.invokeFunction(\n",
              "      'process_message', [userMessage], {}\n",
              "    )\n",
              "    .then(function(response) {\n",
              "      // Adiciona a resposta do bot ao chat\n",
              "      var botMessageElement = document.createElement('div');\n",
              "      botMessageElement.className = 'bot-message';\n",
              "      \n",
              "      botMessageElement.innerHTML = '<b>Sofia:</b> ' + response.data['text/plain'];\n",
              "      chatContainer.appendChild(botMessageElement);\n",
              "\n",
              "      // Rola para baixo para mostrar a última mensagem\n",
              "      chatContainer.scrollTop = chatContainer.scrollHeight;\n",
              "    });\n",
              "  }\n",
              "\n",
              "  // Permite enviar mensagens pressionando Enter\n",
              "  document.getElementById('user-input').addEventListener('keyup', function(event) {\n",
              "    if (event.key === 'Enter') {\n",
              "      sendMessage();\n",
              "    }\n",
              "  });\n",
              "</script>\n",
              "  "
            ]
          },
          "metadata": {}
        }
      ]
    }
  ]
}